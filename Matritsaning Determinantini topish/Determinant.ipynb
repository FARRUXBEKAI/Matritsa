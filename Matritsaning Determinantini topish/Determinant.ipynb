{
 "cells": [
  {
   "cell_type": "markdown",
   "id": "0d16c131",
   "metadata": {},
   "source": [
    "# 13/07/2022\n",
    "\n",
    "# Python asoslari\n",
    "\n",
    "# Matritsaning Determinantini topish\n",
    " \n",
    "# Muallif: Farrux Sotivoldiyev"
   ]
  },
  {
   "cell_type": "code",
   "execution_count": 1,
   "id": "7be73041",
   "metadata": {},
   "outputs": [
    {
     "name": "stdout",
     "output_type": "stream",
     "text": [
      "n = 5\n",
      "Matritsani kiriting:\n",
      "3 5 2 0 8\n",
      "-1 2 0 2 -5\n",
      "3 7 2 3 0\n",
      "4 8 2 4 6\n",
      "1 7 9 7 2\n",
      "Determinanti: 1422\n"
     ]
    }
   ],
   "source": [
    "n = int(input(\"n = \"))\n",
    "print(\"Matritsani kiriting:\")\n",
    "\n",
    "matrix = [list(map(int,input().split())) for i in range(n)]\n",
    "\n",
    "assert len(matrix)==len(matrix[0]),\"Ustun va satr bir biriga teng emas!\"\n",
    "    \n",
    "def det(matrix):\n",
    "    if len(matrix)==1:\n",
    "        return matrix[0][0]\n",
    "    elif len(matrix)==2:\n",
    "        return matrix[0][0]*matrix[1][1] - matrix[1][0]*matrix[0][1]\n",
    "    elif len(matrix)==3:\n",
    "        return matrix[0][0]*matrix[1][1]*matrix[2][2]+matrix[0][1]*matrix[1][2]*matrix[2][0]+\\\n",
    "               matrix[0][2]*matrix[1][0]*matrix[2][1]-matrix[0][2]*matrix[1][1]*matrix[2][0]-\\\n",
    "               matrix[0][0]*matrix[1][2]*matrix[2][1]-matrix[0][1]*matrix[1][0]*matrix[2][2]\n",
    "    s = 0\n",
    "    for i in range(len(matrix)):\n",
    "        s += matrix[0][i] * (1 if i%2==0 else -1) * det([j[:i]+j[i+1:] for j in matrix[1:]])\n",
    "    return s\n",
    "\n",
    "print(\"Determinanti:\",det(matrix))"
   ]
  }
 ],
 "metadata": {
  "kernelspec": {
   "display_name": "Python 3 (ipykernel)",
   "language": "python",
   "name": "python3"
  },
  "language_info": {
   "codemirror_mode": {
    "name": "ipython",
    "version": 3
   },
   "file_extension": ".py",
   "mimetype": "text/x-python",
   "name": "python",
   "nbconvert_exporter": "python",
   "pygments_lexer": "ipython3",
   "version": "3.9.8"
  }
 },
 "nbformat": 4,
 "nbformat_minor": 5
}
